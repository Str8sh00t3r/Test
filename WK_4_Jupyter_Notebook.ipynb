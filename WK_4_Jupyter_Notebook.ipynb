{
  "metadata": {
    "kernelspec": {
      "name": "python",
      "display_name": "Pyolite",
      "language": "python"
    },
    "language_info": {
      "codemirror_mode": {
        "name": "python",
        "version": 3
      },
      "file_extension": ".py",
      "mimetype": "text/x-python",
      "name": "python",
      "nbconvert_exporter": "python",
      "pygments_lexer": "ipython3",
      "version": "3.8"
    }
  },
  "nbformat_minor": 4,
  "nbformat": 4,
  "cells": [
    {
      "cell_type": "markdown",
      "source": "<center>\n    <img src=\"https://cf-courses-data.s3.us.cloud-object-storage.appdomain.cloud/IBMDeveloperSkillsNetwork-DS0105EN-SkillsNetwork/labs/Module2/images/SN_web_lightmode.png\" width=\"300\" alt=\"cognitiveclass.ai logo\"  />\n</center>\n",
      "metadata": {}
    },
    {
      "cell_type": "markdown",
      "source": "#### Add your code below following the instructions given in the course\n",
      "metadata": {}
    },
    {
      "cell_type": "markdown",
      "source": "# My Jupyter Notebook on IBM Watson Studio",
      "metadata": {}
    },
    {
      "cell_type": "markdown",
      "source": "**Alex Bialko**  \nData Scientist",
      "metadata": {}
    },
    {
      "cell_type": "markdown",
      "source": "*I am interested in Data Science because of the fascinating process of using data analysis to build machine learning applications. I am excited to grow my understanding in the visualization and application of data.*",
      "metadata": {}
    },
    {
      "cell_type": "markdown",
      "source": "### The code below will tell you the color of grass",
      "metadata": {}
    },
    {
      "cell_type": "code",
      "source": "print(\"green\")",
      "metadata": {
        "trusted": true
      },
      "execution_count": 15,
      "outputs": [
        {
          "name": "stdout",
          "text": "green\n",
          "output_type": "stream"
        }
      ]
    },
    {
      "cell_type": "markdown",
      "source": "Here is a list of other things that are green with pictures:\n  + Leaf\n  + Praying Mantis\n  + Juice\n  + ~~Apple~~\n\n![alt text](https://encrypted-tbn0.gstatic.com/images?q=tbn:ANd9GcQRT24wiSJ6IBe-C2Awz2aD-kpPQnmsCqSaxQ&usqp=CAU)\n![alt text](https://encrypted-tbn0.gstatic.com/images?q=tbn:ANd9GcRuRn-iuDBPeqnkrSfxnJ0eHZ5jesi92B5UJg&usqp=CAU)\n![alt text](https://encrypted-tbn0.gstatic.com/images?q=tbn:ANd9GcReOYU3rADJ7U6PJQWHz7wQkrgV4NoV4Yigkg&usqp=CAU)",
      "metadata": {}
    },
    {
      "cell_type": "markdown",
      "source": "",
      "metadata": {}
    },
    {
      "cell_type": "code",
      "source": "",
      "metadata": {},
      "execution_count": null,
      "outputs": []
    }
  ]
}